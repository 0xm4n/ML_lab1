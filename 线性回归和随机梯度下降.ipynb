{
 "cells": [
  {
   "cell_type": "code",
   "execution_count": 1,
   "metadata": {},
   "outputs": [],
   "source": [
    "from sklearn import datasets\n",
    "from sklearn.model_selection import train_test_split\n",
    "import matplotlib.pyplot as plt\n",
    "import numpy as np\n",
    "import random\n",
    "\n",
    "data_x, data_y = datasets.load_svmlight_file('housing_scale.txt')\n",
    "x_train, x_test, y_train, y_test = train_test_split(data_x, data_y, test_size = 0.2)\n",
    "x_train = x_train.toarray()\n",
    "x_test = x_test.toarray()"
   ]
  },
  {
   "cell_type": "markdown",
   "metadata": {},
   "source": [
    "# loss函数：$J(\\theta)=\\frac{1}{2m}\\sum_{i=0}^m (h(x^i)-y^i)^2$\n",
    "# 梯度：$G(\\theta_j) = \\frac{1}{m}\\sum_{i=0}^m ((h(x^i)-y^i)*x_j^i)$"
   ]
  },
  {
   "cell_type": "code",
   "execution_count": 2,
   "metadata": {},
   "outputs": [],
   "source": [
    "#计算训练集的行数\n",
    "train_array_row_size, = y_train.shape\n",
    "test_array_row_size, = y_test.shape\n",
    "#生成一个行数=train_array_row_size的全1向量\n",
    "temp_vector = np.ones(train_array_row_size)\n",
    "#算出X\n",
    "X_train = np.column_stack((x_train,temp_vector))\n",
    "temp_vector = np.ones(test_array_row_size)\n",
    "X_test = np.column_stack((x_test,temp_vector))\n",
    "#初始化学习率\n",
    "learnRate = 0.0001"
   ]
  },
  {
   "cell_type": "code",
   "execution_count": 3,
   "metadata": {},
   "outputs": [],
   "source": [
    "def computeLoss_train():\n",
    "    loss_train = (1 / 2 / train_array_row_size)*np.dot(np.transpose((np.transpose(y_train) - np.dot(X_train, w))),(y_train - np.dot(X_train, w)))\n",
    "    return loss_train"
   ]
  },
  {
   "cell_type": "code",
   "execution_count": 4,
   "metadata": {},
   "outputs": [],
   "source": [
    "def computeLoss_test():\n",
    "    loss_test = (1 / 2 / test_array_row_size)*np.dot(np.transpose((np.transpose(y_test) - np.dot(X_test, w))),(y_test - np.dot(X_test, w)))\n",
    "    return loss_test"
   ]
  },
  {
   "cell_type": "code",
   "execution_count": 5,
   "metadata": {},
   "outputs": [],
   "source": [
    "def computeGradient_train():\n",
    "    temp = random.randint(0,train_array_row_size-1)\n",
    "    pred_y = np.dot(X_train,w)[temp]\n",
    "    for i in range (14):\n",
    "        w[i] = w[i] - learnRate * (pred_y - y_train[temp]) * X_train[temp][i]"
   ]
  },
  {
   "cell_type": "code",
   "execution_count": 6,
   "metadata": {},
   "outputs": [],
   "source": [
    "def computeGradient_test():\n",
    "    temp = random.randint(0,test_array_row_size-1)\n",
    "    pred_y = np.dot(X_test,w)[temp]\n",
    "    for i in range (14):\n",
    "        w[i] = w[i] - learnRate * (pred_y - y_test[temp]) * X_test[temp][i]"
   ]
  },
  {
   "cell_type": "code",
   "execution_count": 7,
   "metadata": {},
   "outputs": [],
   "source": [
    "#初始化w\n",
    "w = np.zeros(14)\n",
    "train_loss_tuple = []\n",
    "loss_train1 = 0\n",
    "for i in range (10000):\n",
    "    computeGradient_train()\n",
    "    loss_train1 = computeLoss_train()\n",
    "    train_loss_tuple.append(computeLoss_train())"
   ]
  },
  {
   "cell_type": "code",
   "execution_count": 8,
   "metadata": {},
   "outputs": [],
   "source": [
    "#初始化w\n",
    "w = np.zeros(14)\n",
    "test_loss_tuple = []\n",
    "loss_val = 0\n",
    "for i in range (10000):\n",
    "    computeGradient_test()\n",
    "    loss_val = computeLoss_test()\n",
    "    test_loss_tuple.append(computeLoss_test())"
   ]
  },
  {
   "cell_type": "code",
   "execution_count": 9,
   "metadata": {},
   "outputs": [
    {
     "data": {
      "image/png": "[encoded data removed]",
      "text/plain": [
       "<Figure size 432x288 with 1 Axes>"
      ]
     },
     "metadata": {},
     "output_type": "display_data"
    },
    {
     "name": "stdout",
     "output_type": "stream",
     "text": [
      "loss_train =  29.11080105299873\n",
      "loss_val =  30.230531139890644\n"
     ]
    }
   ],
   "source": [
    "plt.title('relation between\\nloss and training times')\n",
    "plt.xlabel('training time')\n",
    "plt.ylabel('loss')\n",
    "plt.plot(train_loss_tuple,label= \"Train loss\",color = 'red')\n",
    "plt.plot(test_loss_tuple,label= \"Test loss\",color = 'blue')\n",
    "plt.legend(loc='upper right')\n",
    "plt.grid()\n",
    "plt.show()\n",
    "print('loss_train = ',loss_train1)\n",
    "print('loss_val = ',loss_val)"
   ]
  },
  {
   "cell_type": "code",
   "execution_count": null,
   "metadata": {},
   "outputs": [],
   "source": []
  }
 ],
 "metadata": {
  "kernelspec": {
   "display_name": "Python 3",
   "language": "python",
   "name": "python3"
  },
  "language_info": {
   "codemirror_mode": {
    "name": "ipython",
    "version": 3
   },
   "file_extension": ".py",
   "mimetype": "text/x-python",
   "name": "python",
   "nbconvert_exporter": "python",
   "pygments_lexer": "ipython3",
   "version": "3.6.5"
  }
 },
 "nbformat": 4,
 "nbformat_minor": 2
}
