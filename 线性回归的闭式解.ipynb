{
 "cells": [
  {
   "cell_type": "code",
   "execution_count": 1,
   "metadata": {},
   "outputs": [],
   "source": [
    "from sklearn import datasets\n",
    "from sklearn.model_selection import train_test_split\n",
    "import matplotlib.pyplot as plt\n",
    "import numpy as np\n",
    "\n",
    "#导入数据\n",
    "data_x, data_y = datasets.load_svmlight_file('housing_scale.txt')\n",
    "x_train, x_test, y_train, y_test = train_test_split(data_x, data_y, test_size=0.2)\n",
    "x_train = x_train.toarray()\n",
    "x_test = x_test.toarray()"
   ]
  },
  {
   "cell_type": "code",
   "execution_count": 2,
   "metadata": {},
   "outputs": [],
   "source": [
    "#计算训练集的行数\n",
    "train_array_row_size, = y_train.shape\n",
    "#生成一个行数=train_array_row_size的全1向量\n",
    "temp_vector = np.ones(train_array_row_size)\n",
    "#算出X\n",
    "X_train = np.column_stack((x_train,temp_vector))\n",
    "#初始化w\n",
    "w = np.zeros(14)"
   ]
  },
  {
   "cell_type": "code",
   "execution_count": 3,
   "metadata": {},
   "outputs": [],
   "source": [
    "#计算训练集的行数\n",
    "test_array_row_size, = y_test.shape\n",
    "#生成一个行数=train_array_row_size的全1向量\n",
    "temp_vector = np.ones(test_array_row_size)\n",
    "#算出X\n",
    "x_test = np.column_stack((x_test,temp_vector))"
   ]
  },
  {
   "cell_type": "markdown",
   "metadata": {},
   "source": [
    "# loss函数：$J(\\theta)=\\frac{1}{2m}\\sum_{i=0}^m (h(x^i)-y^i)^2$"
   ]
  },
  {
   "cell_type": "code",
   "execution_count": 4,
   "metadata": {},
   "outputs": [],
   "source": [
    "def computeLoss():\n",
    "    loss = (1/2/train_array_row_size)*np.dot(np.transpose((np.transpose(y_train) - np.dot(X_train, w))),(y_train - np.dot(X_train, w)))\n",
    "    print('loss=',loss)"
   ]
  },
  {
   "cell_type": "code",
   "execution_count": 5,
   "metadata": {},
   "outputs": [],
   "source": [
    "def computeLoss_train():\n",
    "    loss = (1/2/train_array_row_size)*np.dot(np.transpose((np.transpose(y_train) - np.dot(X_train, w))),(y_train - np.dot(X_train, w)))\n",
    "    print('loss_train=',loss)"
   ]
  },
  {
   "cell_type": "code",
   "execution_count": 6,
   "metadata": {},
   "outputs": [],
   "source": [
    "def computeTestLoss():\n",
    "    loss = (1/2/test_array_row_size)*np.dot(np.transpose((np.transpose(y_test) - np.dot(x_test, w))),(y_test - np.dot(x_test, w)))\n",
    "    print('loss_val=',loss)"
   ]
  },
  {
   "cell_type": "code",
   "execution_count": 7,
   "metadata": {},
   "outputs": [],
   "source": [
    "def computeW():\n",
    "    X = X_train\n",
    "    a1 = np.dot(np.transpose(X),X)\n",
    "    a = np.linalg.inv(a1)\n",
    "    W = np.dot(np.dot(a,np.transpose(X)),y_train)\n",
    "    return W"
   ]
  },
  {
   "cell_type": "code",
   "execution_count": 8,
   "metadata": {},
   "outputs": [
    {
     "name": "stdout",
     "output_type": "stream",
     "text": [
      "loss= 300.0241584158416\n",
      "loss_train= 10.589198374853591\n",
      "loss_val= 12.97056803103905\n"
     ]
    }
   ],
   "source": [
    "computeLoss()\n",
    "w = computeW()\n",
    "computeLoss_train()\n",
    "computeTestLoss()"
   ]
  }
 ],
 "metadata": {
  "kernelspec": {
   "display_name": "Python 3",
   "language": "python",
   "name": "python3"
  },
  "language_info": {
   "codemirror_mode": {
    "name": "ipython",
    "version": 3
   },
   "file_extension": ".py",
   "mimetype": "text/x-python",
   "name": "python",
   "nbconvert_exporter": "python",
   "pygments_lexer": "ipython3",
   "version": "3.6.5"
  }
 },
 "nbformat": 4,
 "nbformat_minor": 2
}
